{
 "cells": [
  {
   "cell_type": "markdown",
   "metadata": {
    "application/vnd.databricks.v1+cell": {
     "cellMetadata": {},
     "inputWidgets": {},
     "nuid": "42d764fa-92c4-47a9-b8ee-8f29a921eb7d",
     "showTitle": false,
     "title": ""
    }
   },
   "source": [
    "# Predictive Analysis of Impression Ratings Using Classification Algorithms\n",
    "\n"
   ]
  },
  {
   "cell_type": "markdown",
   "metadata": {
    "application/vnd.databricks.v1+cell": {
     "cellMetadata": {},
     "inputWidgets": {},
     "nuid": "df48abf5-e290-4aca-85f9-2e7d4f03da4e",
     "showTitle": false,
     "title": ""
    }
   },
   "source": [
    "## Part 0: Install and Load Packages"
   ]
  },
  {
   "cell_type": "code",
   "execution_count": 0,
   "metadata": {
    "application/vnd.databricks.v1+cell": {
     "cellMetadata": {
      "byteLimit": 2048000,
      "rowLimit": 10000
     },
     "inputWidgets": {},
     "nuid": "3e8b364a-d73a-4d24-85a7-281c695e49fe",
     "showTitle": false,
     "title": ""
    }
   },
   "outputs": [
    {
     "output_type": "stream",
     "name": "stdout",
     "output_type": "stream",
     "text": [
      "\u001B[43mNote: you may need to restart the kernel using dbutils.library.restartPython() to use updated packages.\u001B[0m\nCollecting yfinance\n  Using cached yfinance-0.2.37-py2.py3-none-any.whl (72 kB)\nCollecting requests>=2.31\n  Using cached requests-2.31.0-py3-none-any.whl (62 kB)\nRequirement already satisfied: pytz>=2022.5 in /databricks/python3/lib/python3.10/site-packages (from yfinance) (2022.7)\nCollecting frozendict>=2.3.4\n  Using cached frozendict-2.4.0-cp310-cp310-manylinux_2_17_x86_64.manylinux2014_x86_64.whl (116 kB)\nRequirement already satisfied: lxml>=4.9.1 in /databricks/python3/lib/python3.10/site-packages (from yfinance) (4.9.1)\nRequirement already satisfied: numpy>=1.16.5 in /databricks/python3/lib/python3.10/site-packages (from yfinance) (1.23.5)\nRequirement already satisfied: beautifulsoup4>=4.11.1 in /databricks/python3/lib/python3.10/site-packages (from yfinance) (4.11.1)\nRequirement already satisfied: appdirs>=1.4.4 in /databricks/python3/lib/python3.10/site-packages (from yfinance) (1.4.4)\nCollecting peewee>=3.16.2\n  Using cached peewee-3.17.1-cp310-cp310-linux_x86_64.whl\nCollecting multitasking>=0.0.7\n  Using cached multitasking-0.0.11-py3-none-any.whl (8.5 kB)\nCollecting html5lib>=1.1\n  Using cached html5lib-1.1-py2.py3-none-any.whl (112 kB)\nRequirement already satisfied: pandas>=1.3.0 in /databricks/python3/lib/python3.10/site-packages (from yfinance) (1.5.3)\nRequirement already satisfied: soupsieve>1.2 in /databricks/python3/lib/python3.10/site-packages (from beautifulsoup4>=4.11.1->yfinance) (2.3.2.post1)\nRequirement already satisfied: six>=1.9 in /usr/lib/python3/dist-packages (from html5lib>=1.1->yfinance) (1.16.0)\nRequirement already satisfied: webencodings in /databricks/python3/lib/python3.10/site-packages (from html5lib>=1.1->yfinance) (0.5.1)\nRequirement already satisfied: python-dateutil>=2.8.1 in /databricks/python3/lib/python3.10/site-packages (from pandas>=1.3.0->yfinance) (2.8.2)\nRequirement already satisfied: idna<4,>=2.5 in /databricks/python3/lib/python3.10/site-packages (from requests>=2.31->yfinance) (3.4)\nRequirement already satisfied: charset-normalizer<4,>=2 in /databricks/python3/lib/python3.10/site-packages (from requests>=2.31->yfinance) (2.0.4)\nRequirement already satisfied: certifi>=2017.4.17 in /databricks/python3/lib/python3.10/site-packages (from requests>=2.31->yfinance) (2022.12.7)\nRequirement already satisfied: urllib3<3,>=1.21.1 in /databricks/python3/lib/python3.10/site-packages (from requests>=2.31->yfinance) (1.26.14)\nInstalling collected packages: peewee, multitasking, requests, html5lib, frozendict, yfinance\n  Attempting uninstall: requests\n    Found existing installation: requests 2.28.1\n    Not uninstalling requests at /databricks/python3/lib/python3.10/site-packages, outside environment /local_disk0/.ephemeral_nfs/envs/pythonEnv-4b97ae55-392b-4f1d-997f-c8918862be69\n    Can't uninstall 'requests'. No files were found to uninstall.\nERROR: pip's dependency resolver does not currently take into account all the packages that are installed. This behaviour is the source of the following dependency conflicts.\ndatabricks-feature-store 0.16.3 requires pyspark<4,>=3.1.2, which is not installed.\ndatabricks-sdk 0.1.6 requires requests<2.29.0,>=2.28.1, but you have requests 2.31.0 which is incompatible.\nSuccessfully installed frozendict-2.4.0 html5lib-1.1 multitasking-0.0.11 peewee-3.17.1 requests-2.31.0 yfinance-0.2.37\n\u001B[43mNote: you may need to restart the kernel using dbutils.library.restartPython() to use updated packages.\u001B[0m\n"
     ]
    }
   ],
   "source": [
    "pip install yfinance"
   ]
  },
  {
   "cell_type": "code",
   "execution_count": 0,
   "metadata": {
    "application/vnd.databricks.v1+cell": {
     "cellMetadata": {
      "byteLimit": 2048000,
      "rowLimit": 10000
     },
     "inputWidgets": {},
     "nuid": "3999f736-49e6-4e49-a0f0-f7b8f719ab74",
     "showTitle": false,
     "title": ""
    }
   },
   "outputs": [
    {
     "output_type": "stream",
     "name": "stdout",
     "output_type": "stream",
     "text": [
      "\u001B[43mNote: you may need to restart the kernel using dbutils.library.restartPython() to use updated packages.\u001B[0m\nRequirement already satisfied: xgboost in /local_disk0/.ephemeral_nfs/cluster_libraries/python/lib/python3.10/site-packages (1.7.2)\nRequirement already satisfied: scipy in /databricks/python3/lib/python3.10/site-packages (from xgboost) (1.10.0)\nRequirement already satisfied: numpy in /databricks/python3/lib/python3.10/site-packages (from xgboost) (1.23.5)\n\u001B[43mNote: you may need to restart the kernel using dbutils.library.restartPython() to use updated packages.\u001B[0m\n"
     ]
    }
   ],
   "source": [
    "pip install xgboost"
   ]
  },
  {
   "cell_type": "code",
   "execution_count": 0,
   "metadata": {
    "application/vnd.databricks.v1+cell": {
     "cellMetadata": {
      "byteLimit": 2048000,
      "rowLimit": 10000
     },
     "inputWidgets": {},
     "nuid": "87588a6c-3909-4e2d-b7bb-5d186d5bda23",
     "showTitle": false,
     "title": ""
    }
   },
   "outputs": [
    {
     "output_type": "stream",
     "name": "stdout",
     "output_type": "stream",
     "text": [
      "\u001B[43mNote: you may need to restart the kernel using dbutils.library.restartPython() to use updated packages.\u001B[0m\nRequirement already satisfied: shap in /databricks/python3/lib/python3.10/site-packages (0.43.0)\nRequirement already satisfied: numpy in /databricks/python3/lib/python3.10/site-packages (from shap) (1.23.5)\nRequirement already satisfied: packaging>20.9 in /databricks/python3/lib/python3.10/site-packages (from shap) (22.0)\nRequirement already satisfied: numba in /databricks/python3/lib/python3.10/site-packages (from shap) (0.56.4)\nRequirement already satisfied: scipy in /databricks/python3/lib/python3.10/site-packages (from shap) (1.10.0)\nRequirement already satisfied: tqdm>=4.27.0 in /databricks/python3/lib/python3.10/site-packages (from shap) (4.64.1)\nRequirement already satisfied: pandas in /databricks/python3/lib/python3.10/site-packages (from shap) (1.5.3)\nRequirement already satisfied: slicer==0.0.7 in /databricks/python3/lib/python3.10/site-packages (from shap) (0.0.7)\nRequirement already satisfied: cloudpickle in /databricks/python3/lib/python3.10/site-packages (from shap) (2.0.0)\nRequirement already satisfied: scikit-learn in /databricks/python3/lib/python3.10/site-packages (from shap) (1.1.1)\nRequirement already satisfied: setuptools in /databricks/python3/lib/python3.10/site-packages (from numba->shap) (65.6.3)\nRequirement already satisfied: llvmlite<0.40,>=0.39.0dev0 in /databricks/python3/lib/python3.10/site-packages (from numba->shap) (0.39.1)\nRequirement already satisfied: python-dateutil>=2.8.1 in /databricks/python3/lib/python3.10/site-packages (from pandas->shap) (2.8.2)\nRequirement already satisfied: pytz>=2020.1 in /databricks/python3/lib/python3.10/site-packages (from pandas->shap) (2022.7)\nRequirement already satisfied: joblib>=1.0.0 in /databricks/python3/lib/python3.10/site-packages (from scikit-learn->shap) (1.2.0)\nRequirement already satisfied: threadpoolctl>=2.0.0 in /databricks/python3/lib/python3.10/site-packages (from scikit-learn->shap) (2.2.0)\nRequirement already satisfied: six>=1.5 in /usr/lib/python3/dist-packages (from python-dateutil>=2.8.1->pandas->shap) (1.16.0)\n\u001B[43mNote: you may need to restart the kernel using dbutils.library.restartPython() to use updated packages.\u001B[0m\n"
     ]
    }
   ],
   "source": [
    "pip install shap"
   ]
  },
  {
   "cell_type": "code",
   "execution_count": 0,
   "metadata": {
    "application/vnd.databricks.v1+cell": {
     "cellMetadata": {
      "byteLimit": 2048000,
      "rowLimit": 10000
     },
     "inputWidgets": {},
     "nuid": "07e62c29-6cd2-4608-8512-aa7ac93af7d7",
     "showTitle": false,
     "title": ""
    }
   },
   "outputs": [],
   "source": [
    "import pandas as pd\n",
    "import numpy as np\n",
    "import matplotlib.pyplot as plt\n",
    "import yfinance as yf\n",
    "\n",
    "from sklearn.preprocessing import OneHotEncoder, StandardScaler, LabelEncoder\n",
    "from sklearn.model_selection import train_test_split, cross_val_score, cross_val_predict, GridSearchCV\n",
    "from sklearn.metrics import accuracy_score, precision_score, f1_score, confusion_matrix, classification_report, recall_score\n",
    "\n",
    "from sklearn.tree import DecisionTreeClassifier\n",
    "from sklearn.ensemble import RandomForestClassifier\n",
    "from sklearn.svm import SVC\n",
    "from sklearn.neighbors import KNeighborsClassifier\n",
    "import xgboost as xgb\n",
    "\n",
    "import shap"
   ]
  },
  {
   "cell_type": "markdown",
   "metadata": {
    "application/vnd.databricks.v1+cell": {
     "cellMetadata": {},
     "inputWidgets": {},
     "nuid": "106fae18-7c62-4821-a773-6c66b213259f",
     "showTitle": false,
     "title": ""
    }
   },
   "source": [
    "## Part 1: Exploratory Data Analysis (EDA)\n",
    "\n",
    "In this section, we conduct a comprehensive Exploratory Data Analysis (EDA) to gain insights into the dataset.\n",
    "\n",
    "- ***Data Integrity Checks***: We perform rigorous data integrity checks to ensure the quality and consistency of the dataset. This includes examining data types, unique values, and identifying any missing data.\n",
    "\n",
    "- ***Description of Numerical Features***: We provide a detailed description of numerical features, such as the \"square footage\" and \"number of buildings\" columns. This includes summary statistics and distributions to understand their characteristics better.\n",
    "\n",
    "- ***Exploration of Categorical Columns***: We delve into categorical columns, investigating unique values such as \"location rating\" and \"property status\" to analyze their distributions and potential impact on the target variable.\n",
    "\n",
    "- ***Time Series Visualization and Distribution Analysis***: We visualize \"completion date\" frequencies and analyze the temporal distribution of data to identify potential gaps around significant historical events. Sparse data availability before the 1970s is explored through decade-wise completion date counts, providing insights on potential limitations in historical record-keeping.\n"
   ]
  },
  {
   "cell_type": "code",
   "execution_count": 0,
   "metadata": {
    "application/vnd.databricks.v1+cell": {
     "cellMetadata": {
      "byteLimit": 2048000,
      "rowLimit": 10000
     },
     "inputWidgets": {},
     "nuid": "ce905344-8b56-43e0-b64a-92c5fb3996dc",
     "showTitle": false,
     "title": ""
    },
    "scrolled": true
   },
   "outputs": [
    {
     "output_type": "execute_result",
     "data": {
      "text/html": [
       "<div>\n",
       "<style scoped>\n",
       "    .dataframe tbody tr th:only-of-type {\n",
       "        vertical-align: middle;\n",
       "    }\n",
       "\n",
       "    .dataframe tbody tr th {\n",
       "        vertical-align: top;\n",
       "    }\n",
       "\n",
       "    .dataframe thead th {\n",
       "        text-align: right;\n",
       "    }\n",
       "</style>\n",
       "<table border=\"1\" class=\"dataframe\">\n",
       "  <thead>\n",
       "    <tr style=\"text-align: right;\">\n",
       "      <th></th>\n",
       "      <th>PropertyName</th>\n",
       "      <th>Address</th>\n",
       "      <th>City</th>\n",
       "      <th>State</th>\n",
       "      <th>ZipCode</th>\n",
       "      <th>PhoneNumber</th>\n",
       "      <th>TotalSqFt</th>\n",
       "      <th>NetRentableSqFt</th>\n",
       "      <th>TotalAcres</th>\n",
       "      <th>NumBuildings</th>\n",
       "      <th>NumFloors</th>\n",
       "      <th>PropertyStatus</th>\n",
       "      <th>ImpressionRating</th>\n",
       "      <th>LocationRating</th>\n",
       "      <th>CompletionDate</th>\n",
       "    </tr>\n",
       "  </thead>\n",
       "  <tbody>\n",
       "    <tr>\n",
       "      <th>0</th>\n",
       "      <td>720 Self Storage</td>\n",
       "      <td>720 6th Avenue</td>\n",
       "      <td>Troy</td>\n",
       "      <td>NY</td>\n",
       "      <td>12182.0</td>\n",
       "      <td>5.182337e+09</td>\n",
       "      <td>17769.0</td>\n",
       "      <td>15103.0</td>\n",
       "      <td>1.91</td>\n",
       "      <td>3.0</td>\n",
       "      <td>2</td>\n",
       "      <td>Completed</td>\n",
       "      <td>B</td>\n",
       "      <td>C+</td>\n",
       "      <td>1/1/1970</td>\n",
       "    </tr>\n",
       "    <tr>\n",
       "      <th>1</th>\n",
       "      <td>A - Metro Climate Controlled Self Storage</td>\n",
       "      <td>4773 Western Turnpike</td>\n",
       "      <td>Altamont</td>\n",
       "      <td>NY</td>\n",
       "      <td>12009.0</td>\n",
       "      <td>5.183579e+09</td>\n",
       "      <td>44268.0</td>\n",
       "      <td>42054.0</td>\n",
       "      <td>10.60</td>\n",
       "      <td>6.0</td>\n",
       "      <td>1</td>\n",
       "      <td>Completed</td>\n",
       "      <td>B</td>\n",
       "      <td>B-</td>\n",
       "      <td>1/1/2013</td>\n",
       "    </tr>\n",
       "    <tr>\n",
       "      <th>2</th>\n",
       "      <td>A - Metro Movers Self Storage</td>\n",
       "      <td>889 Troy-Schenectady Road</td>\n",
       "      <td>Latham</td>\n",
       "      <td>NY</td>\n",
       "      <td>12110.0</td>\n",
       "      <td>5.187834e+09</td>\n",
       "      <td>43069.0</td>\n",
       "      <td>36608.0</td>\n",
       "      <td>5.70</td>\n",
       "      <td>6.0</td>\n",
       "      <td>2</td>\n",
       "      <td>Completed</td>\n",
       "      <td>B</td>\n",
       "      <td>B</td>\n",
       "      <td>1/1/1989</td>\n",
       "    </tr>\n",
       "    <tr>\n",
       "      <th>3</th>\n",
       "      <td>A - Metro Movers Self Storage</td>\n",
       "      <td>2703 Curry Road</td>\n",
       "      <td>Guilderland</td>\n",
       "      <td>NY</td>\n",
       "      <td>12303.0</td>\n",
       "      <td>5.183555e+09</td>\n",
       "      <td>37125.0</td>\n",
       "      <td>31556.0</td>\n",
       "      <td>4.55</td>\n",
       "      <td>2.0</td>\n",
       "      <td>2</td>\n",
       "      <td>Completed</td>\n",
       "      <td>B</td>\n",
       "      <td>B-</td>\n",
       "      <td>1/1/2011</td>\n",
       "    </tr>\n",
       "    <tr>\n",
       "      <th>4</th>\n",
       "      <td>Accessible Self Storage</td>\n",
       "      <td>1233 Route 9</td>\n",
       "      <td>Hudson</td>\n",
       "      <td>NY</td>\n",
       "      <td>12534.0</td>\n",
       "      <td>5.188221e+09</td>\n",
       "      <td>10900.0</td>\n",
       "      <td>10355.0</td>\n",
       "      <td>17.40</td>\n",
       "      <td>4.0</td>\n",
       "      <td>1</td>\n",
       "      <td>Completed</td>\n",
       "      <td>C</td>\n",
       "      <td>C</td>\n",
       "      <td>1/1/2000</td>\n",
       "    </tr>\n",
       "  </tbody>\n",
       "</table>\n",
       "</div>"
      ],
      "text/plain": [
       "                                PropertyName  ... CompletionDate\n",
       "0                           720 Self Storage  ...       1/1/1970\n",
       "1  A - Metro Climate Controlled Self Storage  ...       1/1/2013\n",
       "2              A - Metro Movers Self Storage  ...       1/1/1989\n",
       "3              A - Metro Movers Self Storage  ...       1/1/2011\n",
       "4                    Accessible Self Storage  ...       1/1/2000\n",
       "\n",
       "[5 rows x 15 columns]"
      ]
     },
     "execution_count": 5,
     "metadata": {},
     "output_type": "execute_result"
    }
   ],
   "source": [
    "# Read the .txt file into a DataFrame\n",
    "\n",
    "df = pd.read_csv('property locations.txt', sep='\\t', encoding='latin-1')\n",
    "df.head()"
   ]
  },
  {
   "cell_type": "code",
   "execution_count": 0,
   "metadata": {
    "application/vnd.databricks.v1+cell": {
     "cellMetadata": {
      "byteLimit": 2048000,
      "rowLimit": 10000
     },
     "inputWidgets": {},
     "nuid": "0b8aba2f-b510-466e-98a3-a8c6e3d02dd9",
     "showTitle": false,
     "title": ""
    },
    "scrolled": true
   },
   "outputs": [
    {
     "output_type": "stream",
     "name": "stdout",
     "output_type": "stream",
     "text": [
      "<class 'pandas.core.frame.DataFrame'>\nRangeIndex: 28723 entries, 0 to 28722\nData columns (total 15 columns):\n #   Column            Non-Null Count  Dtype  \n---  ------            --------------  -----  \n 0   PropertyName      28723 non-null  object \n 1   Address           28723 non-null  object \n 2   City              28723 non-null  object \n 3   State             28723 non-null  object \n 4   ZipCode           28722 non-null  float64\n 5   PhoneNumber       27117 non-null  float64\n 6   TotalSqFt         28461 non-null  float64\n 7   NetRentableSqFt   28039 non-null  float64\n 8   TotalAcres        28722 non-null  float64\n 9   NumBuildings      28524 non-null  float64\n 10  NumFloors         28723 non-null  int64  \n 11  PropertyStatus    28723 non-null  object \n 12  ImpressionRating  28723 non-null  object \n 13  LocationRating    28723 non-null  object \n 14  CompletionDate    27100 non-null  object \ndtypes: float64(6), int64(1), object(8)\nmemory usage: 3.3+ MB\n"
     ]
    }
   ],
   "source": [
    "# Checking DataFrame information\n",
    "\n",
    "df.info()"
   ]
  },
  {
   "cell_type": "code",
   "execution_count": 0,
   "metadata": {
    "application/vnd.databricks.v1+cell": {
     "cellMetadata": {
      "byteLimit": 2048000,
      "rowLimit": 10000
     },
     "inputWidgets": {},
     "nuid": "98356a6a-5dbd-4954-a3a5-e08393878088",
     "showTitle": false,
     "title": ""
    }
   },
   "outputs": [
    {
     "output_type": "execute_result",
     "data": {
      "text/plain": [
       "PropertyName        11515\n",
       "Address             28277\n",
       "City                 4414\n",
       "State                  45\n",
       "ZipCode              7787\n",
       "PhoneNumber         25958\n",
       "TotalSqFt           19983\n",
       "NetRentableSqFt     20216\n",
       "TotalAcres           2121\n",
       "NumBuildings           59\n",
       "NumFloors              16\n",
       "PropertyStatus          4\n",
       "ImpressionRating        4\n",
       "LocationRating         12\n",
       "CompletionDate       1653\n",
       "dtype: int64"
      ]
     },
     "execution_count": 7,
     "metadata": {},
     "output_type": "execute_result"
    }
   ],
   "source": [
    "# Checking the number of unique values\n",
    "\n",
    "df.nunique()"
   ]
  },
  {
   "cell_type": "code",
   "execution_count": 0,
   "metadata": {
    "application/vnd.databricks.v1+cell": {
     "cellMetadata": {
      "byteLimit": 2048000,
      "rowLimit": 10000
     },
     "inputWidgets": {},
     "nuid": "898a6b8e-ad1d-4494-ba2a-92856ba5893c",
     "showTitle": false,
     "title": ""
    }
   },
   "outputs": [
    {
     "output_type": "execute_result",
     "data": {
      "text/plain": [
       "PropertyName           0\n",
       "Address                0\n",
       "City                   0\n",
       "State                  0\n",
       "ZipCode                1\n",
       "PhoneNumber         1606\n",
       "TotalSqFt            262\n",
       "NetRentableSqFt      684\n",
       "TotalAcres             1\n",
       "NumBuildings         199\n",
       "NumFloors              0\n",
       "PropertyStatus         0\n",
       "ImpressionRating       0\n",
       "LocationRating         0\n",
       "CompletionDate      1623\n",
       "dtype: int64"
      ]
     },
     "execution_count": 8,
     "metadata": {},
     "output_type": "execute_result"
    }
   ],
   "source": [
    "# Checking null values\n",
    "\n",
    "df.isna().sum()"
   ]
  },
  {
   "cell_type": "code",
   "execution_count": 0,
   "metadata": {
    "application/vnd.databricks.v1+cell": {
     "cellMetadata": {
      "byteLimit": 2048000,
      "rowLimit": 10000
     },
     "inputWidgets": {},
     "nuid": "976e83a3-cf4c-46c0-99ee-f0c02628ef61",
     "showTitle": false,
     "title": ""
    }
   },
   "outputs": [
    {
     "output_type": "execute_result",
     "data": {
      "text/plain": [
       "Public Storage                      2568\n",
       "Extra Space Storage                 2000\n",
       "U - Haul Moving & Storage           1239\n",
       "CubeSmart Self Storage              1187\n",
       "LifeStorage                          906\n",
       "                                    ... \n",
       "Long Beach Storage Center              1\n",
       "Mt. Olive Self Storage                 1\n",
       "Nova Storage Phase II                  1\n",
       "Paramount - Jackson Self Storage       1\n",
       "US Storage Centers Phase II            1\n",
       "Name: PropertyName, Length: 11515, dtype: int64"
      ]
     },
     "execution_count": 9,
     "metadata": {},
     "output_type": "execute_result"
    }
   ],
   "source": [
    "# Calculating counts of each property name\n",
    "\n",
    "property_counts = df['PropertyName'].value_counts()\n",
    "property_counts  # some properties have counts much bigger than others"
   ]
  },
  {
   "cell_type": "code",
   "execution_count": 0,
   "metadata": {
    "application/vnd.databricks.v1+cell": {
     "cellMetadata": {
      "byteLimit": 2048000,
      "rowLimit": 10000
     },
     "inputWidgets": {},
     "nuid": "3454548c-a5a8-4e94-b124-1fd5a1d555f5",
     "showTitle": false,
     "title": ""
    },
    "scrolled": false
   },
   "outputs": [
    {
     "output_type": "execute_result",
     "data": {
      "text/html": [
       "<div>\n",
       "<style scoped>\n",
       "    .dataframe tbody tr th:only-of-type {\n",
       "        vertical-align: middle;\n",
       "    }\n",
       "\n",
       "    .dataframe tbody tr th {\n",
       "        vertical-align: top;\n",
       "    }\n",
       "\n",
       "    .dataframe thead th {\n",
       "        text-align: right;\n",
       "    }\n",
       "</style>\n",
       "<table border=\"1\" class=\"dataframe\">\n",
       "  <thead>\n",
       "    <tr style=\"text-align: right;\">\n",
       "      <th></th>\n",
       "      <th>TotalSqFt</th>\n",
       "      <th>NetRentableSqFt</th>\n",
       "      <th>TotalAcres</th>\n",
       "      <th>NumBuildings</th>\n",
       "      <th>NumFloors</th>\n",
       "    </tr>\n",
       "  </thead>\n",
       "  <tbody>\n",
       "    <tr>\n",
       "      <th>count</th>\n",
       "      <td>28461.000000</td>\n",
       "      <td>28039.000000</td>\n",
       "      <td>28722.000000</td>\n",
       "      <td>28524.000000</td>\n",
       "      <td>28723.000000</td>\n",
       "    </tr>\n",
       "    <tr>\n",
       "      <th>mean</th>\n",
       "      <td>65408.595973</td>\n",
       "      <td>57093.829274</td>\n",
       "      <td>4.948031</td>\n",
       "      <td>7.723671</td>\n",
       "      <td>1.589423</td>\n",
       "    </tr>\n",
       "    <tr>\n",
       "      <th>std</th>\n",
       "      <td>42941.710400</td>\n",
       "      <td>35700.946169</td>\n",
       "      <td>9.940328</td>\n",
       "      <td>314.411907</td>\n",
       "      <td>1.073723</td>\n",
       "    </tr>\n",
       "    <tr>\n",
       "      <th>min</th>\n",
       "      <td>99.000000</td>\n",
       "      <td>74.000000</td>\n",
       "      <td>0.070000</td>\n",
       "      <td>1.000000</td>\n",
       "      <td>1.000000</td>\n",
       "    </tr>\n",
       "    <tr>\n",
       "      <th>25%</th>\n",
       "      <td>34214.000000</td>\n",
       "      <td>31407.000000</td>\n",
       "      <td>2.110000</td>\n",
       "      <td>2.000000</td>\n",
       "      <td>1.000000</td>\n",
       "    </tr>\n",
       "    <tr>\n",
       "      <th>50%</th>\n",
       "      <td>59860.000000</td>\n",
       "      <td>53627.000000</td>\n",
       "      <td>3.580000</td>\n",
       "      <td>5.000000</td>\n",
       "      <td>1.000000</td>\n",
       "    </tr>\n",
       "    <tr>\n",
       "      <th>75%</th>\n",
       "      <td>88868.000000</td>\n",
       "      <td>76041.000000</td>\n",
       "      <td>5.590000</td>\n",
       "      <td>8.000000</td>\n",
       "      <td>2.000000</td>\n",
       "    </tr>\n",
       "    <tr>\n",
       "      <th>max</th>\n",
       "      <td>657743.000000</td>\n",
       "      <td>493307.000000</td>\n",
       "      <td>844.270000</td>\n",
       "      <td>53100.000000</td>\n",
       "      <td>21.000000</td>\n",
       "    </tr>\n",
       "  </tbody>\n",
       "</table>\n",
       "</div>"
      ],
      "text/plain": [
       "           TotalSqFt  NetRentableSqFt    TotalAcres  NumBuildings     NumFloors\n",
       "count   28461.000000     28039.000000  28722.000000  28524.000000  28723.000000\n",
       "mean    65408.595973     57093.829274      4.948031      7.723671      1.589423\n",
       "std     42941.710400     35700.946169      9.940328    314.411907      1.073723\n",
       "min        99.000000        74.000000      0.070000      1.000000      1.000000\n",
       "25%     34214.000000     31407.000000      2.110000      2.000000      1.000000\n",
       "50%     59860.000000     53627.000000      3.580000      5.000000      1.000000\n",
       "75%     88868.000000     76041.000000      5.590000      8.000000      2.000000\n",
       "max    657743.000000    493307.000000    844.270000  53100.000000     21.000000"
      ]
     },
     "execution_count": 10,
     "metadata": {},
     "output_type": "execute_result"
    }
   ],
   "source": [
    "# Describing numerical columns\n",
    "\n",
    "df[['TotalSqFt', 'NetRentableSqFt', 'TotalAcres', 'NumBuildings', 'NumFloors']].describe()"
   ]
  },
  {
   "cell_type": "code",
   "execution_count": 0,
   "metadata": {
    "application/vnd.databricks.v1+cell": {
     "cellMetadata": {
      "byteLimit": 2048000,
      "rowLimit": 10000
     },
     "inputWidgets": {},
     "nuid": "717dcb34-6805-441f-a7ac-4a9bf77941aa",
     "showTitle": false,
     "title": ""
    }
   },
   "outputs": [
    {
     "output_type": "stream",
     "name": "stdout",
     "output_type": "stream",
     "text": [
      "ImpressionRating unique values ['B' 'C' 'A' 'NR']\nLocationRating unique values ['C+' 'B-' 'B' 'C' 'B+' 'A-' 'A' 'C-' 'A+' 'NR' 'C ' 'A ']\nPropertyStatus unique values ['Completed' 'Planned' 'Under Construction' 'Prospective']\n"
     ]
    }
   ],
   "source": [
    "# Checking unique values for certain categorical columns\n",
    "\n",
    "print('ImpressionRating unique values',df['ImpressionRating'].unique())\n",
    "print('LocationRating unique values',df['LocationRating'].unique())\n",
    "print('PropertyStatus unique values',df['PropertyStatus'].unique())"
   ]
  },
  {
   "cell_type": "code",
   "execution_count": 0,
   "metadata": {
    "application/vnd.databricks.v1+cell": {
     "cellMetadata": {
      "byteLimit": 2048000,
      "rowLimit": 10000
     },
     "inputWidgets": {},
     "nuid": "03082d6f-ee04-4210-adb4-37b27b974b00",
     "showTitle": false,
     "title": ""
    },
    "scrolled": true
   },
   "outputs": [
    {
     "output_type": "execute_result",
     "data": {
      "text/plain": [
       "C+    8364\n",
       "B-    6777\n",
       "B     4800\n",
       "C     4029\n",
       "B+    2522\n",
       "A-    1277\n",
       "A      525\n",
       "C-     348\n",
       "A+      70\n",
       "NR       7\n",
       "C        3\n",
       "A        1\n",
       "Name: LocationRating, dtype: int64"
      ]
     },
     "execution_count": 12,
     "metadata": {},
     "output_type": "execute_result"
    }
   ],
   "source": [
    "# Checking the number of unique values for each ImpressionRating and LocationRating\n",
    "\n",
    "df['ImpressionRating'].value_counts()\n",
    "df['LocationRating'].value_counts()"
   ]
  },
  {
   "cell_type": "code",
   "execution_count": 0,
   "metadata": {
    "application/vnd.databricks.v1+cell": {
     "cellMetadata": {
      "byteLimit": 2048000,
      "rowLimit": 10000
     },
     "inputWidgets": {},
     "nuid": "0695c705-c8a2-4c80-8835-b9cb42cb4a10",
     "showTitle": false,
     "title": ""
    }
   },
   "outputs": [
    {
     "output_type": "display_data",
     "data": {
      "image/png": "[encoded data removed]",
      "text/plain": [
       "<Figure size 1000x600 with 1 Axes>"
      ]
     },
     "metadata": {},
     "output_type": "display_data"
    }
   ],
   "source": [
    "# Drawing a histogram showing the frequency of completion dates aggregated by year\n",
    "\n",
    "df['CompletionDate'] = pd.to_datetime(df['CompletionDate'])\n",
    "df['Year'] = df['CompletionDate'].dt.year\n",
    "yearly_counts = df['Year'].value_counts().sort_index()\n",
    "\n",
    "plt.figure(figsize=(10, 6))\n",
    "plt.bar(yearly_counts.index, yearly_counts.values, color='skyblue')\n",
    "plt.xlabel('Year')\n",
    "plt.ylabel('Frequency')\n",
    "plt.title('Histogram of Completion Properties')\n",
    "plt.xticks(rotation=45)\n",
    "plt.tight_layout()\n",
    "plt.show()\n",
    "\n",
    "# Three key observations from the histogram:\n",
    "# 1. A significant gap exists around the 1990s, likely due to the impact of the Black Monday crisis in 1987.\n",
    "# 2. Disruption around 2010, likely correlated with market turbulence due to the Subprime Mortgage Crisis in 2008.\n",
    "# 3. Data availability is sparse before the 1970s, potentially due to limited data collection practices or historical record keeping."
   ]
  },
  {
   "cell_type": "code",
   "execution_count": 0,
   "metadata": {
    "application/vnd.databricks.v1+cell": {
     "cellMetadata": {
      "byteLimit": 2048000,
      "rowLimit": 10000
     },
     "inputWidgets": {},
     "nuid": "f4a86409-7709-4fc0-a6b0-f852ff4f84d9",
     "showTitle": false,
     "title": ""
    }
   },
   "outputs": [
    {
     "output_type": "execute_result",
     "data": {
      "text/plain": [
       "Year\n",
       "1900.0       2\n",
       "1910.0       5\n",
       "1920.0       8\n",
       "1930.0       6\n",
       "1940.0      20\n",
       "1950.0     226\n",
       "1960.0     415\n",
       "1970.0    2432\n",
       "1980.0    5297\n",
       "1990.0    6548\n",
       "2000.0    7187\n",
       "2010.0    3636\n",
       "2020.0    1318\n",
       "dtype: int64"
      ]
     },
     "execution_count": 14,
     "metadata": {},
     "output_type": "execute_result"
    }
   ],
   "source": [
    "# Counting occurrences for each decade to validate the observations\n",
    "year_counts = df.groupby(df['Year'] // 10 * 10).size()\n",
    "year_counts"
   ]
  },
  {
   "cell_type": "markdown",
   "metadata": {
    "application/vnd.databricks.v1+cell": {
     "cellMetadata": {},
     "inputWidgets": {},
     "nuid": "18e577ef-5710-44d2-a243-0b072f0eabd1",
     "showTitle": false,
     "title": ""
    }
   },
   "source": [
    "### While consulting domain experts is ideal, assumptions are made based on my understanding. \n",
    "\n",
    "###  Assumption 1: Column Definations\n",
    "\n",
    "- `PropertyName`: The name or title assigned to the property.\n",
    "- `Address`: The specific street address where the property is located.\n",
    "- `City`: The municipality or urban area where the property is situated.\n",
    "- `State`: The administrative division within a country where the property is located.\n",
    "- `ZipCode`: The postal code assigned to the property's location.\n",
    "- `PhoneNumber`: The contact phone number associated with the property.\n",
    "- `TotalSqFt`: The total area in square feet encompassed by the property.\n",
    "- `NetRentableSqFt`: The total leasable area in square feet within the property.\n",
    "- `TotalAcres`: The overall land area of the property measured in acres.\n",
    "- `NumBuildings`: The total count of buildings situated on the property.\n",
    "- `NumFloors`: The number of floors or levels within the buildings on the property.\n",
    "- `PropertyStatus`: The current status or condition of the property, such as active, pending, or sold.\n",
    "- `ImpressionRating`: A qualitative assessment of the overall impression or aesthetic appeal of the property.\n",
    "- `LocationRating`: An evaluation of the property's location or proximity to amenities, transportation, etc.\n",
    "- `CompletionDate`: The date when the property construction or development was completed.\n"
   ]
  },
  {
   "cell_type": "markdown",
   "metadata": {
    "application/vnd.databricks.v1+cell": {
     "cellMetadata": {},
     "inputWidgets": {},
     "nuid": "8039ea41-724c-4355-b059-c864099f3fea",
     "showTitle": false,
     "title": ""
    }
   },
   "source": [
    "### Assumption 2: Interpretation of \"ImpressionRating\"\n",
    "\n",
    "- \"ImpressionRating\" is likely sourced externally, such as from customer questionnaires or public rankings, reflecting public perception. It can be serve as a crucial evaluation metric for investment success.\n",
    "- The ideal scenario is consistently achieving an \"A\" rating in future assessments. In other words, prioritizing a high ImpressionRating is essential for maximizing investment success by bolstering public reputation and property quality.\n",
    "\n",
    "- The forthcoming analysis will center on classification techniques aimed at predicting ImpressionRating based on multiple dimensions. The objective is to elucidate factors influencing ImpressionRating and provide insights into its determinants.\n"
   ]
  },
  {
   "cell_type": "markdown",
   "metadata": {
    "application/vnd.databricks.v1+cell": {
     "cellMetadata": {},
     "inputWidgets": {},
     "nuid": "670f464c-bbb7-42f6-9b10-1725489e5458",
     "showTitle": false,
     "title": ""
    }
   },
   "source": [
    "## Part 2: Data Cleaning\n",
    "- Filter out the years with insufficient data quality, keeping only the data from the desired timeframe\n",
    "- Null/missing values handling"
   ]
  },
  {
   "cell_type": "code",
   "execution_count": 0,
   "metadata": {
    "application/vnd.databricks.v1+cell": {
     "cellMetadata": {
      "byteLimit": 2048000,
      "rowLimit": 10000
     },
     "inputWidgets": {},
     "nuid": "fb89f51e-ed04-4a87-b700-5e25d76e4976",
     "showTitle": false,
     "title": ""
    }
   },
   "outputs": [
    {
     "output_type": "stream",
     "name": "stdout",
     "output_type": "stream",
     "text": [
      "Before dropping null values:\n PropertyName          0\nAddress               0\nCity                  0\nState                 0\nZipCode               0\nPhoneNumber         394\nTotalSqFt            18\nNetRentableSqFt     382\nTotalAcres            0\nNumBuildings          9\nNumFloors             0\nPropertyStatus        0\nImpressionRating      0\nLocationRating        0\nCompletionDate        0\nYear                  0\ndtype: int64\nAfter dropping null values:\n PropertyName          0\nAddress               0\nCity                  0\nState                 0\nZipCode               0\nPhoneNumber         386\nTotalSqFt             0\nNetRentableSqFt       0\nTotalAcres            0\nNumBuildings          0\nNumFloors             0\nPropertyStatus        0\nImpressionRating      0\nLocationRating        0\nCompletionDate        0\nYear                  0\ndtype: int64\n"
     ]
    }
   ],
   "source": [
    "# Filter the dataset to keep only data after 1950 due to insufficient data quality before that period\n",
    "df = df[df['Year'] >= 1950].reset_index(drop=True)\n",
    "\n",
    "# Check null values in DataFrame \n",
    "print(\"Before dropping null values:\\n\", df.isna().sum())\n",
    "\n",
    "# Drop null rows for specific columns: 'ZipCode', 'TotalAcres', 'LocationRating', and 'CompletionDate'df.dropna(subset=['ZipCode', 'TotalAcres', 'LocationRating', 'CompletionDate'], inplace=True)\n",
    "\n",
    "# 'TotalSqFt' and 'NetRentableSqFt' are highly correlated and similar to each other\n",
    "# Uncomment the following lines if you want to check the correlation between columns\n",
    "# correlation_matrix = df[['TotalSqFt', 'NetRentableSqFt', 'TotalAcres']].corr()\n",
    "# print(correlation_matrix)\n",
    "\n",
    "# Fill missing values in 'TotalSqFt' and 'NetRentableSqFt' using each other's values\n",
    "df['TotalSqFt'].fillna(df['NetRentableSqFt'], inplace=True)\n",
    "df['NetRentableSqFt'].fillna(df['TotalSqFt'], inplace=True)\n",
    "\n",
    "# Drop null rows for 'TotalSqFt' and 'NumBuildings' to maximize information retention\n",
    "df.dropna(subset=['TotalSqFt', 'NumBuildings'], inplace=True)\n",
    "\n",
    "print(\"After dropping null values:\\n\", df.isna().sum())"
   ]
  },
  {
   "cell_type": "markdown",
   "metadata": {
    "application/vnd.databricks.v1+cell": {
     "cellMetadata": {},
     "inputWidgets": {},
     "nuid": "9d4e1d53-d491-4e80-9196-03cc0ce6da99",
     "showTitle": false,
     "title": ""
    }
   },
   "source": [
    "## Part 3: Feature Engineering\n"
   ]
  },
  {
   "cell_type": "markdown",
   "metadata": {
    "application/vnd.databricks.v1+cell": {
     "cellMetadata": {},
     "inputWidgets": {},
     "nuid": "5a8d3ffb-51ef-4162-b121-dd4f0083d9a2",
     "showTitle": false,
     "title": ""
    }
   },
   "source": [
    "### Feature 1: Property Name Categorization: \n",
    "Properties with counts of 500 or more are identified as big/popular property names."
   ]
  },
  {
   "cell_type": "code",
   "execution_count": 0,
   "metadata": {
    "application/vnd.databricks.v1+cell": {
     "cellMetadata": {
      "byteLimit": 2048000,
      "rowLimit": 10000
     },
     "inputWidgets": {},
     "nuid": "331cd960-540d-49ca-bb68-49393616bcf2",
     "showTitle": false,
     "title": ""
    }
   },
   "outputs": [
    {
     "output_type": "stream",
     "name": "stdout",
     "output_type": "stream",
     "text": [
      "Counts of Property Names after Categorization:\nothers                       19289\nPublic Storage                2556\nExtra Space Storage           1954\nU - Haul Moving & Storage     1180\nCubeSmart Self Storage        1162\nLifeStorage                    896\nName: PropertyName, dtype: int64\n"
     ]
    }
   ],
   "source": [
    "# Calculate the counts of each property name\n",
    "property_counts = df['PropertyName'].value_counts()\n",
    "\n",
    "# Define the threshold for 'big' properties\n",
    "threshold = 500  # Based on observation, retain information without having a sparse matrix\n",
    "\n",
    "# Identify small properties below the threshold\n",
    "small_property = property_counts[property_counts < threshold].index.tolist()\n",
    "\n",
    "# Replace small property names with 'others'\n",
    "df.loc[df['PropertyName'].isin(small_property), 'PropertyName'] = 'others'\n",
    "\n",
    "# Print the counts of property names after categorization\n",
    "print(\"Counts of Property Names after Categorization:\")\n",
    "print(df['PropertyName'].value_counts())"
   ]
  },
  {
   "cell_type": "markdown",
   "metadata": {
    "application/vnd.databricks.v1+cell": {
     "cellMetadata": {},
     "inputWidgets": {},
     "nuid": "0119087f-bacb-472f-801b-cb7dfaa487a8",
     "showTitle": false,
     "title": ""
    }
   },
   "source": [
    "### Feature 2: Population Mobility by City/State\n",
    "\n",
    "1. Load Census data from the file \"1790-2010_MASTER\" and structure it by state and city, facilitating the calculation of population changes over decades and storage of results in dictionaries for further analysis.\n",
    "\n",
    "2. Create new features, 'pop_mobility_city' and 'pop_mobility_state', by applying functions that assess population mobility at city and state levels. These features capture population mobility trends over time, offering insights into geographic mobility patterns within the dataset."
   ]
  },
  {
   "cell_type": "code",
   "execution_count": 0,
   "metadata": {
    "application/vnd.databricks.v1+cell": {
     "cellMetadata": {
      "byteLimit": 2048000,
      "rowLimit": 10000
     },
     "inputWidgets": {},
     "nuid": "3d778628-9a2b-4442-978d-872133e9b991",
     "showTitle": false,
     "title": ""
    },
    "scrolled": true
   },
   "outputs": [
    {
     "output_type": "stream",
     "name": "stdout",
     "output_type": "stream",
     "text": [
      "example of mobility dictionaries:\n{1950: 7759.0, 1960: 32983.0, 1970: 3844.0, 1980: 126350.0, 1990: 51907.0, 2000: 33945.0, 2010: 31543.0}\n{1950: 8425.0, 1960: 55994.0, 1970: 24704.0, 1980: 165464.0, 1990: 88007.0, 2000: 44302.0, 2010: 38845.0}\n"
     ]
    }
   ],
   "source": [
    "# Load population mobility data from Census records and map it by State and City\n",
    "df_pop = pd.read_csv('1790-2010_MASTER.csv', sep=',', encoding='latin-1')\n",
    "\n",
    "# Initialize dictionaries to store population changes for each state and city\n",
    "state_city_population_changes = {}\n",
    "state_population_changes = {}\n",
    "\n",
    "# Group the DataFrame by state ('ST') column\n",
    "grouped_by_state = df_pop.groupby('ST')\n",
    "\n",
    "# Iterate over each state group\n",
    "for state, state_group in grouped_by_state:\n",
    "    # Initialize dictionary for the state and calculate population changes\n",
    "    state_city_population_changes[state] = {}\n",
    "    state_population_change = {}\n",
    "    for i in range(20, 27):  # Assuming population data starts from column index 20 and ends at 27\n",
    "        current_decade = int(state_group.columns[i])\n",
    "        previous_decade = int(state_group.columns[i - 1])        \n",
    "        state_population_change_ = (state_group[str(current_decade)] - state_group[str(previous_decade)]).sum()\n",
    "        state_population_change[current_decade] = state_population_change_     \n",
    "    state_population_changes[state] = state_population_change\n",
    "    \n",
    "    # Group the state group by city and calculate population changes\n",
    "    grouped_by_city = state_group.groupby('City')\n",
    "    for city, city_group in grouped_by_city:\n",
    "        city_population_changes = {}\n",
    "        for i in range(20, 27):  # Assuming population data starts from column index 20 and ends at 27\n",
    "            current_decade = int(city_group.columns[i])\n",
    "            previous_decade = int(city_group.columns[i - 1])\n",
    "            population_change = (city_group[str(current_decade)] - city_group[str(previous_decade)]).values[0]\n",
    "            city_population_changes[current_decade] = abs(population_change)\n",
    "        state_city_population_changes[state][city] = city_population_changes\n",
    "\n",
    "print(\"example of mobility dictionaries:\")\n",
    "print(state_city_population_changes['AK']['Anchorage'])\n",
    "print(state_population_changes['AK'])"
   ]
  },
  {
   "cell_type": "code",
   "execution_count": 0,
   "metadata": {
    "application/vnd.databricks.v1+cell": {
     "cellMetadata": {
      "byteLimit": 2048000,
      "rowLimit": 10000
     },
     "inputWidgets": {},
     "nuid": "905d91eb-4f5f-41d3-b814-5fa2f5d3f0f6",
     "showTitle": false,
     "title": ""
    },
    "scrolled": true
   },
   "outputs": [],
   "source": [
    "# Define functions to calculate population mobility at both city and state levels\n",
    "def calculate_pop_mobility(row):\n",
    "    state = row['State']\n",
    "    city = row['City']        \n",
    "    year = np.floor(row['Year'] / 10) * 10\n",
    "    \n",
    "    if state in state_population_changes and city in state_population_changes[state]:\n",
    "        state_dict = state_population_changes[state]\n",
    "        city_dict = state_dict[city]\n",
    "        if year in city_dict:\n",
    "            return city_dict[year]\n",
    "    return None\n",
    "\n",
    "def calculate_state_pop_mobility(row):\n",
    "    state = row['State']\n",
    "    year = np.floor(row['Year'] / 10) * 10\n",
    "    \n",
    "    if state in state_population_changes:\n",
    "        state_dict = state_population_changes[state]\n",
    "        if year in state_dict:\n",
    "            return state_dict[year]\n",
    "    return None\n",
    "\n",
    "# Apply functions to create new features 'pop_mobility_city' and 'pop_mobility_state'\n",
    "df['pop_mobility_city'] = df.apply(calculate_pop_mobility, axis=1)\n",
    "df['pop_mobility_city'].fillna(0, inplace=True)\n",
    "\n",
    "df['pop_mobility_state'] = df.apply(calculate_state_pop_mobility, axis=1)\n",
    "df['pop_mobility_state'].fillna(0, inplace=True)\n",
    "\n",
    "# Define numerical features for geographic mobility\n",
    "geographic_features_num = ['pop_mobility_city', 'pop_mobility_state']"
   ]
  },
  {
   "cell_type": "markdown",
   "metadata": {
    "application/vnd.databricks.v1+cell": {
     "cellMetadata": {},
     "inputWidgets": {},
     "nuid": "94f66d73-bd94-4e2f-ae2a-4045c1ad44a2",
     "showTitle": false,
     "title": ""
    }
   },
   "source": [
    "### Feature 3: Property Attributes"
   ]
  },
  {
   "cell_type": "code",
   "execution_count": 0,
   "metadata": {
    "application/vnd.databricks.v1+cell": {
     "cellMetadata": {
      "byteLimit": 2048000,
      "rowLimit": 10000
     },
     "inputWidgets": {},
     "nuid": "b70e8684-ae14-4dee-b39e-41eb284a0659",
     "showTitle": false,
     "title": ""
    }
   },
   "outputs": [],
   "source": [
    "# Numerical property attribute features\n",
    "property_attribute_features_num = ['TotalSqFt', 'TotalAcres', 'NumBuildings', 'NumFloors']\n",
    "\n",
    "# Categorical property attribute features\n",
    "property_attribute_features_cat = ['PropertyStatus']"
   ]
  },
  {
   "cell_type": "markdown",
   "metadata": {
    "application/vnd.databricks.v1+cell": {
     "cellMetadata": {},
     "inputWidgets": {},
     "nuid": "abf1e69f-571a-4926-9998-28b5e56744f9",
     "showTitle": false,
     "title": ""
    }
   },
   "source": [
    "### Feature 4: LocationRating Mapping"
   ]
  },
  {
   "cell_type": "code",
   "execution_count": 0,
   "metadata": {
    "application/vnd.databricks.v1+cell": {
     "cellMetadata": {
      "byteLimit": 2048000,
      "rowLimit": 10000
     },
     "inputWidgets": {},
     "nuid": "76cb92e3-ff3c-483b-a157-e28918587afd",
     "showTitle": false,
     "title": ""
    }
   },
   "outputs": [],
   "source": [
    "# The 'LocationRating' column represents ordinal categories with a meaningful order\n",
    "# One-hot encoding would not capture this ordinal relationship, manual encoding instead.\n",
    "\n",
    "# Define mapping for ordinal categories in 'LocationRating' column\n",
    "LocationRating_mapping = {\n",
    "    'NR': 0,  \n",
    "    'C-': 1, 'C': 2, 'C+': 3,  \n",
    "    'B-': 4, 'B': 5, 'B+': 6,  \n",
    "    'A-': 7, 'A': 8, 'A+': 9  \n",
    "}\n",
    "\n",
    "# Map ordinal categories to numerical values based on the defined mapping\n",
    "df['LocationRating'] = df['LocationRating'].map(LocationRating_mapping)"
   ]
  },
  {
   "cell_type": "markdown",
   "metadata": {
    "application/vnd.databricks.v1+cell": {
     "cellMetadata": {},
     "inputWidgets": {},
     "nuid": "72b08cd5-cace-4bf3-b00b-941ee67a0d2a",
     "showTitle": false,
     "title": ""
    }
   },
   "source": [
    "### Feature 5: Economoics Indicators - SP500 & DJones Indices from Yahoo Finance"
   ]
  },
  {
   "cell_type": "code",
   "execution_count": 0,
   "metadata": {
    "application/vnd.databricks.v1+cell": {
     "cellMetadata": {
      "byteLimit": 2048000,
      "rowLimit": 10000
     },
     "inputWidgets": {},
     "nuid": "c5b47e0b-4829-4c0b-b927-bba24d68a589",
     "showTitle": false,
     "title": ""
    },
    "scrolled": true
   },
   "outputs": [
    {
     "output_type": "stream",
     "name": "stderr",
     "output_type": "stream",
     "text": [
      "\r[*********************100%%**********************]  1 of 1 completed\n\r[*********************100%%**********************]  1 of 1 completed\n"
     ]
    }
   ],
   "source": [
    "# Fetch S&P 500 data from Yahoo Finance\n",
    "sp500_data = yf.download('^GSPC', start=df['CompletionDate'].min(), end=df['CompletionDate'].max())[['Close']]\n",
    "\n",
    "# Fetch DJIA data from Yahoo Finance\n",
    "djia_data = yf.download('^DJI', start=df['CompletionDate'].min(), end=df['CompletionDate'].max())[['Close']]\n",
    "\n",
    "# Merge S&P 500 and DJIA data into the main DataFrame\n",
    "df = pd.merge_asof(df.sort_values('CompletionDate'), sp500_data, left_on='CompletionDate', right_index=True, direction='nearest')\n",
    "df = pd.merge_asof(df.sort_values('CompletionDate'), djia_data, left_on='CompletionDate', right_index=True, direction='nearest')\n",
    "\n",
    "# Rename the columns for clarity\n",
    "df.rename(columns={'Close_x': 'SP500_Close', 'Close_y': 'DJIA_Close'}, inplace=True)\n",
    "\n",
    "eco_features = ['SP500_Close', 'DJIA_Close']"
   ]
  },
  {
   "cell_type": "markdown",
   "metadata": {
    "application/vnd.databricks.v1+cell": {
     "cellMetadata": {},
     "inputWidgets": {},
     "nuid": "f7cb33a2-6db2-43f4-8d6e-92ec5d1952ae",
     "showTitle": false,
     "title": ""
    }
   },
   "source": [
    "## Part 4: Data Preprocessing"
   ]
  },
  {
   "cell_type": "code",
   "execution_count": 0,
   "metadata": {
    "application/vnd.databricks.v1+cell": {
     "cellMetadata": {
      "byteLimit": 2048000,
      "rowLimit": 10000
     },
     "inputWidgets": {},
     "nuid": "2af9a541-8fec-4b5b-88b4-14ae22f49a8c",
     "showTitle": false,
     "title": ""
    }
   },
   "outputs": [
    {
     "output_type": "stream",
     "name": "stdout",
     "output_type": "stream",
     "text": [
      "X_train shape: (16222, 27)\nX_val shape: (5407, 27)\nX_test shape: (5408, 27)\ny_train shape: (16222,)\ny_val shape: (5407,)\ny_test shape: (5408,)\ntraining data sample:  [0.31294491 0.02012402 0.96894082 0.4168217  0.47693114 0.28107013\n 0.         0.10376621 0.         0.         0.         0.\n 0.         1.         1.         0.         0.         0.\n 0.         0.         0.         0.         0.         1.\n 0.         0.         0.        ]\n"
     ]
    }
   ],
   "source": [
    "# Define numerical and categorical features\n",
    "num_features = property_attribute_features_num + eco_features + geographic_features_num\n",
    "cate_feature = ['PropertyName'] + property_attribute_features_cat + ['LocationRating']\n",
    "\n",
    "# Standardize the numerical features\n",
    "scaler = StandardScaler()\n",
    "df[num_features] = scaler.fit_transform(df[num_features])\n",
    "\n",
    "# Perform one-hot encoding on categorical features\n",
    "encoder = OneHotEncoder(sparse=False)\n",
    "encoded_features = encoder.fit_transform(df[cate_feature])\n",
    "\n",
    "# Combine numerical, economic, and encoded categorical features\n",
    "all_features= np.concatenate([df[num_features].values, encoded_features], axis=1)\n",
    "\n",
    "# Target variable\n",
    "target = df['ImpressionRating']\n",
    "\n",
    "# Splitting the data into train, validation, and test sets\n",
    "X_train, X_temp, y_train, y_temp = train_test_split(all_features, target, test_size=0.4, random_state=42)\n",
    "X_val, X_test, y_val, y_test = train_test_split(X_temp, y_temp, test_size=0.5, random_state=42)\n",
    "\n",
    "# Sanity check\n",
    "print(\"X_train shape:\", X_train.shape)\n",
    "print(\"X_val shape:\", X_val.shape)\n",
    "print(\"X_test shape:\", X_test.shape)\n",
    "print(\"y_train shape:\", y_train.shape)\n",
    "print(\"y_val shape:\", y_val.shape)\n",
    "print(\"y_test shape:\", y_test.shape)\n",
    "\n",
    "print(\"training data sample: \", X_train[0])"
   ]
  },
  {
   "cell_type": "markdown",
   "metadata": {
    "application/vnd.databricks.v1+cell": {
     "cellMetadata": {},
     "inputWidgets": {},
     "nuid": "b87cd844-0b77-4b3b-9d67-820505d2b522",
     "showTitle": false,
     "title": ""
    }
   },
   "source": [
    "## Part 5: Model Selection and Validation\n",
    "\n",
    "In this part, we'll explore classification algorithms including Decision Tree, Random Forest, XGBoost, K-Nearest Neighbors, and Support Vector Machine. Using 5-fold cross-validation, we'll evaluate these baseline models to identify the best-performing one(s). Our goal is to select the best model with the highest accuracy and the the strongest generalization to unseen data.\n",
    "\n",
    "We'll assess model performance using the following evaluation metrics:\n",
    "- **Accuracy**: Overall correctness of the model's predictions.\n",
    "- **F1 Score (Micro, Macro)**: Harmonic mean of precision and recall, calculated across all classes.\n",
    "- **Confusion Matrix**: A table showing the counts of true positive, true negative, false positive, and false negative predictions for each class.\n",
    "\n",
    "In this use case, focusing solely on high or low ratings overlooks potential risks and fails to provide a holistic view. Our focus is on accurately predicting all credit ratings ('A' to 'C'), ensuring comprehensive risk assessment and informed investment decision-making.\n"
   ]
  },
  {
   "cell_type": "code",
   "execution_count": 0,
   "metadata": {
    "application/vnd.databricks.v1+cell": {
     "cellMetadata": {},
     "inputWidgets": {},
     "nuid": "e8753e72-8fcf-44eb-8e3d-11818e43a8c5",
     "showTitle": false,
     "title": ""
    },
    "scrolled": true
   },
   "outputs": [
    {
     "output_type": "stream",
     "name": "stdout",
     "output_type": "stream",
     "text": [
      "\nClassifier: Decision Tree\nCross-Validation Accuracy: 0.6238431505170622\nCross-Validation F1 Score (Micro): 0.6238431505170622\nCross-Validation F1 Score (Macro): 0.7086530046677499\n\nCross-Validation Confusion Matrix:\n[[ 634  306   65    0]\n [ 330 1231  607    3]\n [  57  612 1435    0]\n [   0    1    0  126]]\n\nCross-Validation Classification Report:\n              precision    recall  f1-score   support\n\n           A       0.62      0.63      0.63      1005\n           B       0.57      0.57      0.57      2171\n           C       0.68      0.68      0.68      2104\n          NR       0.98      0.99      0.98       127\n\n    accuracy                           0.63      5407\n   macro avg       0.71      0.72      0.72      5407\nweighted avg       0.63      0.63      0.63      5407\n\n-----------------------------------------------------------\n\nClassifier: Random Forest\nCross-Validation Accuracy: 0.7177902074518514\nCross-Validation F1 Score (Micro): 0.7177902074518514\nCross-Validation F1 Score (Macro): 0.7848790949561373\n\nCross-Validation Confusion Matrix:\n[[ 722  260   23    0]\n [ 225 1442  503    1]\n [  20  514 1570    0]\n [   0    0    0  127]]\n\nCross-Validation Classification Report:\n              precision    recall  f1-score   support\n\n           A       0.75      0.72      0.73      1005\n           B       0.65      0.66      0.66      2171\n           C       0.75      0.75      0.75      2104\n          NR       0.99      1.00      1.00       127\n\n    accuracy                           0.71      5407\n   macro avg       0.78      0.78      0.78      5407\nweighted avg       0.71      0.71      0.71      5407\n\n-----------------------------------------------------------\n\nClassifier: XGBoost\nCross-Validation Accuracy: 0.7175433893365304\nCross-Validation F1 Score (Micro): 0.7175433893365304\nCross-Validation F1 Score (Macro): 0.7829892568169524\n\nCross-Validation Confusion Matrix:\n[[ 686  297   22    0]\n [ 222 1413  535    1]\n [  23  498 1583    0]\n [   0    0    0  127]]\n\nCross-Validation Classification Report:\n              precision    recall  f1-score   support\n\n           A       0.74      0.68      0.71      1005\n           B       0.64      0.65      0.65      2171\n           C       0.74      0.75      0.75      2104\n          NR       0.99      1.00      1.00       127\n\n    accuracy                           0.70      5407\n   macro avg       0.78      0.77      0.77      5407\nweighted avg       0.71      0.70      0.70      5407\n\n-----------------------------------------------------------\n\nClassifier: K-Nearest Neighbors\nCross-Validation Accuracy: 0.677228440225786\nCross-Validation F1 Score (Micro): 0.677228440225786\nCross-Validation F1 Score (Macro): 0.7502549701873579\n\nCross-Validation Confusion Matrix:\n[[ 670  297   38    0]\n [ 290 1279  602    0]\n [  38  480 1586    0]\n [   4    2    0  121]]\n\nCross-Validation Classification Report:\n              precision    recall  f1-score   support\n\n           A       0.67      0.67      0.67      1005\n           B       0.62      0.59      0.60      2171\n           C       0.71      0.75      0.73      2104\n          NR       1.00      0.95      0.98       127\n\n    accuracy                           0.68      5407\n   macro avg       0.75      0.74      0.75      5407\nweighted avg       0.67      0.68      0.67      5407\n\n-----------------------------------------------------------\n\nClassifier: Support Vector Machine\nCross-Validation Accuracy: 0.7215505026228343\nCross-Validation F1 Score (Micro): 0.7215505026228343\nCross-Validation F1 Score (Macro): 0.7866038673000293\n\nCross-Validation Confusion Matrix:\n[[ 716  266   23    0]\n [ 217 1420  533    1]\n [  20  453 1631    0]\n [   0    3    0  124]]\n\nCross-Validation Classification Report:\n              precision    recall  f1-score   support\n\n           A       0.75      0.71      0.73      1005\n           B       0.66      0.65      0.66      2171\n           C       0.75      0.78      0.76      2104\n          NR       0.99      0.98      0.98       127\n\n    accuracy                           0.72      5407\n   macro avg       0.79      0.78      0.78      5407\nweighted avg       0.72      0.72      0.72      5407\n\n-----------------------------------------------------------\n"
     ]
    }
   ],
   "source": [
    "# Initialize classifiers\n",
    "classifiers = {\n",
    "    \"Decision Tree\": DecisionTreeClassifier(random_state=42),\n",
    "    \"Random Forest\": RandomForestClassifier(random_state=42),\n",
    "    \"XGBoost\": xgb.XGBClassifier(random_state=42),\n",
    "    \"K-Nearest Neighbors\": KNeighborsClassifier(),\n",
    "    \"Support Vector Machine\": SVC(random_state=42)\n",
    "}\n",
    "\n",
    "# Fit and transform the target variable y_val (xgb classifiers expect numeric labels for classification)\n",
    "label_encoder = LabelEncoder()\n",
    "y_train_encoded = label_encoder.fit_transform(y_train)\n",
    "y_val_encoded = label_encoder.fit_transform(y_val)\n",
    "\n",
    "# Evaluate each classifier using cross-validation\n",
    "for name, clf in classifiers.items():\n",
    "    cv_accuracy = cross_val_score(clf, X_train, y_train_encoded, cv=5, scoring='accuracy')\n",
    "    cv_f1_micro = cross_val_score(clf, X_train, y_train_encoded, cv=5, scoring='f1_micro')\n",
    "    cv_f1_macro = cross_val_score(clf, X_train, y_train_encoded, cv=5, scoring='f1_macro')\n",
    "\n",
    "    # Compute predictions using cross-validation\n",
    "    y_pred_cv = cross_val_predict(clf, X_val, y_val_encoded, cv=5)\n",
    "    \n",
    "    # Inverse transform the predictions to get original labels\n",
    "    y_pred_cv_original = label_encoder.inverse_transform(y_pred_cv)\n",
    "    \n",
    "    # Calculate confusion matrix\n",
    "    conf_matrix_cv = confusion_matrix(y_val, y_pred_cv_original)\n",
    "\n",
    "    # Classification report\n",
    "    class_report_cv = classification_report(y_val, y_pred_cv_original)\n",
    "    \n",
    "    # Print results\n",
    "    print(\"\")\n",
    "    print(f\"Classifier: {name}\")\n",
    "    print(\"Cross-Validation Accuracy:\", cv_accuracy.mean())\n",
    "    print(\"Cross-Validation F1 Score (Micro):\", cv_f1_micro.mean())\n",
    "    print(\"Cross-Validation F1 Score (Macro):\", cv_f1_macro.mean())\n",
    "    print(\"\\nCross-Validation Confusion Matrix:\")\n",
    "    print(conf_matrix_cv)\n",
    "    print(\"\\nCross-Validation Classification Report:\")\n",
    "    print(class_report_cv)\n",
    "    print(\"-----------------------------------------------------------\")"
   ]
  },
  {
   "cell_type": "markdown",
   "metadata": {
    "application/vnd.databricks.v1+cell": {
     "cellMetadata": {},
     "inputWidgets": {},
     "nuid": "e51a85ca-3b9f-4ce3-982e-da61c0030cc3",
     "showTitle": false,
     "title": ""
    }
   },
   "source": [
    "Following the evaluation of various baseline models for the classification task, both the **Support Vector Machine (SVM)** and **Random Forest** emerged as top-performing models. Their superior precision, recall, and F1-scores across multiple metrics highlight their effectiveness in accurately classifying the target variable.\n",
    "\n",
    "Moreover, both **SVM** and **Random Forest** demonstrated robust performance in handling class imbalances, as evidenced by their notable F1 Score (Micro) and F1 Score (Macro). This capability is particularly crucial in real-world scenarios where class distributions are often skewed.\n",
    "\n",
    "Given their similar performance, both **SVM** and **Random Forest** will be selected for further fine-tuning to optimize their hyperparameters and potentially enhance their predictive performance.\n"
   ]
  },
  {
   "cell_type": "markdown",
   "metadata": {
    "application/vnd.databricks.v1+cell": {
     "cellMetadata": {},
     "inputWidgets": {},
     "nuid": "4245209a-8a64-4ea3-a092-9d1f078c7dab",
     "showTitle": false,
     "title": ""
    }
   },
   "source": [
    "## Part 6: Model Fine-tuning and Training"
   ]
  },
  {
   "cell_type": "code",
   "execution_count": 0,
   "metadata": {
    "application/vnd.databricks.v1+cell": {
     "cellMetadata": {
      "byteLimit": 2048000,
      "rowLimit": 10000
     },
     "inputWidgets": {},
     "nuid": "69652a04-e122-4556-b351-89af0938bc2c",
     "showTitle": false,
     "title": ""
    }
   },
   "outputs": [
    {
     "output_type": "stream",
     "name": "stdout",
     "output_type": "stream",
     "text": [
      "X_new_train shape: (21629, 27)\ny_new_train shape: (21629,)\nX_test shape: (5408, 27)\ny_test shape: (5408,)\n"
     ]
    }
   ],
   "source": [
    "# Combine the training and validation sets to create a new training set for model fine-tuning.\n",
    "# Note: The original test set (X_test and y_test) remains untouched, serving as holdout data for evluatiuon stage.\n",
    "\n",
    "# Concatenate features of training and validation sets\n",
    "X_new_train = np.concatenate((X_train, X_val), axis=0)\n",
    "\n",
    "# Concatenate labels of training and validation sets\n",
    "y_new_train = np.concatenate((y_train, y_val), axis=0)\n",
    "\n",
    "# Sanity check\n",
    "print(\"X_new_train shape:\", X_new_train.shape)\n",
    "print(\"y_new_train shape:\", y_new_train.shape)\n",
    "print(\"X_test shape:\", X_test.shape)\n",
    "print(\"y_test shape:\", y_test.shape)"
   ]
  },
  {
   "cell_type": "markdown",
   "metadata": {
    "application/vnd.databricks.v1+cell": {
     "cellMetadata": {},
     "inputWidgets": {},
     "nuid": "4982fd8b-1909-41e6-a4c4-528aa9f2b861",
     "showTitle": false,
     "title": ""
    }
   },
   "source": [
    "### Fine-tune 1: Support Vector Machine"
   ]
  },
  {
   "cell_type": "code",
   "execution_count": 0,
   "metadata": {
    "application/vnd.databricks.v1+cell": {
     "cellMetadata": {
      "byteLimit": 2048000,
      "rowLimit": 10000
     },
     "inputWidgets": {},
     "nuid": "915494d4-2272-4c29-8b86-550e743a2d0c",
     "showTitle": false,
     "title": ""
    }
   },
   "outputs": [],
   "source": [
    "# # Define the parameter grid for SVM\n",
    "# param_grid_svm = {\n",
    "#     'C': [0.1, 1, 10, 100, 1000],\n",
    "#     'gamma': [1e-3, 1e-2, 0.1, 1, 10]\n",
    "# }\n",
    "\n",
    "# # Instantiate the SVM classifier with the RBF kernel\n",
    "# svm = SVC(kernel='rbf')\n",
    "\n",
    "# # Instantiate GridSearchCV with the parameter grid and parallel execution\n",
    "# grid_search_svm = GridSearchCV(svm, param_grid_svm, cv=3, scoring='accuracy', n_jobs=-1)\n",
    "\n",
    "# # Fit GridSearchCV\n",
    "# grid_search_svm.fit(X_new_train, y_new_train)\n",
    "\n",
    "# # Retrieve best parameters\n",
    "# best_params_svm = grid_search_svm.best_params_\n",
    "\n",
    "# # Print the best parameters\n",
    "# print(\"Best Parameters (SVM):\", best_params_svm)"
   ]
  },
  {
   "cell_type": "markdown",
   "metadata": {
    "application/vnd.databricks.v1+cell": {
     "cellMetadata": {},
     "inputWidgets": {},
     "nuid": "81ae8d5c-670b-4f57-a1b8-c9e0e79f87d9",
     "showTitle": false,
     "title": ""
    }
   },
   "source": [
    "After conducting a thorough grid search, the optimal hyperparameters for SVM is\n",
    "\n",
    "{'C': 1, 'gamma': 0.1}"
   ]
  },
  {
   "cell_type": "code",
   "execution_count": 0,
   "metadata": {
    "application/vnd.databricks.v1+cell": {
     "cellMetadata": {
      "byteLimit": 2048000,
      "rowLimit": 10000
     },
     "inputWidgets": {},
     "nuid": "08b1da97-408f-416b-9116-20c5d1be574b",
     "showTitle": false,
     "title": ""
    }
   },
   "outputs": [],
   "source": [
    "best_params_svm = {'C': 1, 'gamma': 0.1}"
   ]
  },
  {
   "cell_type": "markdown",
   "metadata": {
    "application/vnd.databricks.v1+cell": {
     "cellMetadata": {},
     "inputWidgets": {},
     "nuid": "92940088-e13a-476f-8442-fe7a647f1120",
     "showTitle": false,
     "title": ""
    }
   },
   "source": [
    "### Fine-tune 2: Random Forest"
   ]
  },
  {
   "cell_type": "code",
   "execution_count": 0,
   "metadata": {
    "application/vnd.databricks.v1+cell": {
     "cellMetadata": {
      "byteLimit": 2048000,
      "rowLimit": 10000
     },
     "inputWidgets": {},
     "nuid": "0b3ec60e-7297-4045-97fc-990c5142cdfe",
     "showTitle": false,
     "title": ""
    }
   },
   "outputs": [],
   "source": [
    "# # Define the expanded parameter grid for Random Forest\n",
    "# param_grid_rf = {\n",
    "#     'n_estimators': [100, 200, 300, 400, 500],\n",
    "#     'max_depth': [10, 20, 30, 50],\n",
    "#     'min_samples_split': [2, 5, 10, 15, 20],\n",
    "#     'min_samples_leaf': [1, 2, 4, 6, 8],\n",
    "# }\n",
    "\n",
    "# # Instantiate the Random Forest classifier\n",
    "# rf = RandomForestClassifier(random_state=42)\n",
    "\n",
    "# # Instantiate GridSearchCV for Random Forest with expanded grid\n",
    "# grid_search_rf = GridSearchCV(rf, param_grid_rf, cv=3, scoring='accuracy', n_jobs=-1)\n",
    "\n",
    "# # Fit GridSearchCV for Random Forest with expanded grid\n",
    "# grid_search_rf.fit(X_new_train, y_new_train)\n",
    "\n",
    "# # Retrieve best parameters for Random Forest with expanded grid\n",
    "# best_params_rf = grid_search_rf.best_params_\n",
    "\n",
    "# # Print the best parameters for Random Forest with expanded grid\n",
    "# print(\"Best Parameters for Random Forest:\", best_params_rf)\n"
   ]
  },
  {
   "cell_type": "markdown",
   "metadata": {
    "application/vnd.databricks.v1+cell": {
     "cellMetadata": {},
     "inputWidgets": {},
     "nuid": "448b8e0c-1b39-453e-a197-c6a1060d93ff",
     "showTitle": false,
     "title": ""
    }
   },
   "source": [
    "After conducting a thorough grid search, the optimal hyperparameters for Random Forest is \n",
    "\n",
    "{'max_depth': 30, 'min_samples_leaf': 4, 'min_samples_split': 10, 'n_estimators': 400}\n"
   ]
  },
  {
   "cell_type": "code",
   "execution_count": 0,
   "metadata": {
    "application/vnd.databricks.v1+cell": {
     "cellMetadata": {
      "byteLimit": 2048000,
      "rowLimit": 10000
     },
     "inputWidgets": {},
     "nuid": "e5a59a29-f3e1-4185-86ff-0f8c1a33a233",
     "showTitle": false,
     "title": ""
    }
   },
   "outputs": [],
   "source": [
    "best_params_rf = {'max_depth': 30, 'min_samples_leaf': 4, 'min_samples_split': 10, 'n_estimators': 400}"
   ]
  },
  {
   "cell_type": "markdown",
   "metadata": {
    "application/vnd.databricks.v1+cell": {
     "cellMetadata": {},
     "inputWidgets": {},
     "nuid": "44369a7c-0b11-4477-b0f2-b04ab35fb9b6",
     "showTitle": false,
     "title": ""
    }
   },
   "source": [
    "## Part 7: Model Evaluation\n",
    "\n",
    "In this section, we evaluate the performance of the fine-tuned Support Vector Machine classifier and Random Forest classifier using the holdout set (X_test and y_test). It is ensured that no data leakage occurs during the evaluation process, maintaining the integrity of the evaluation results."
   ]
  },
  {
   "cell_type": "markdown",
   "metadata": {
    "application/vnd.databricks.v1+cell": {
     "cellMetadata": {},
     "inputWidgets": {},
     "nuid": "db7278b5-9d4a-4d99-8fd3-8d2f0f816c27",
     "showTitle": false,
     "title": ""
    }
   },
   "source": [
    "### Evaluation 1: Fine-tuned SVM "
   ]
  },
  {
   "cell_type": "code",
   "execution_count": 0,
   "metadata": {
    "application/vnd.databricks.v1+cell": {
     "cellMetadata": {},
     "inputWidgets": {},
     "nuid": "8ebc60aa-6133-45e0-8edd-91b6cae15faf",
     "showTitle": false,
     "title": ""
    }
   },
   "outputs": [
    {
     "output_type": "stream",
     "name": "stdout",
     "output_type": "stream",
     "text": [
      "Test Accuracy (SVM): 0.7283653846153846\nPrecision (SVM): 0.7271665348651324\nRecall (SVM): 0.7283653846153846\nF1 Score (SVM): 0.7274380581997286\n\nConfusion Matrix (SVM):\n[[ 803  199   21    1]\n [ 229 1450  539    0]\n [  22  456 1574    1]\n [   1    0    0  112]]\n\nClassification Report (SVM):\n              precision    recall  f1-score   support\n\n           A       0.76      0.78      0.77      1024\n           B       0.69      0.65      0.67      2218\n           C       0.74      0.77      0.75      2053\n          NR       0.98      0.99      0.99       113\n\n    accuracy                           0.73      5408\n   macro avg       0.79      0.80      0.80      5408\nweighted avg       0.73      0.73      0.73      5408\n\n---------------------------------------——————————————————————\n"
     ]
    }
   ],
   "source": [
    "# Initialize SVM classifier with best parameters\n",
    "best_svm = SVC(C=1, gamma=0.1, random_state=42, kernel='rbf')\n",
    "\n",
    "# Fit SVM classifier on the training data\n",
    "best_svm.fit(X_new_train, y_new_train)\n",
    "\n",
    "# Generate predictions on the test set using the SVM classifier\n",
    "y_pred_test_svm = best_svm.predict(X_test)\n",
    "\n",
    "# Calculate evaluation metrics for the SVM classifier\n",
    "test_accuracy_svm = accuracy_score(y_test, y_pred_test_svm)\n",
    "precision_svm = precision_score(y_test, y_pred_test_svm, average='weighted')\n",
    "recall_svm = recall_score(y_test, y_pred_test_svm, average='weighted')\n",
    "f1_svm = f1_score(y_test, y_pred_test_svm, average='weighted')\n",
    "\n",
    "# Print the evaluation metrics for the SVM classifier\n",
    "print(\"Test Accuracy (SVM):\", test_accuracy_svm)\n",
    "print(\"Precision (SVM):\", precision_svm)\n",
    "print(\"Recall (SVM):\", recall_svm)\n",
    "print(\"F1 Score (SVM):\", f1_svm)\n",
    "\n",
    "# Generate confusion matrix for the SVM classifier\n",
    "print(\"\\nConfusion Matrix (SVM):\")\n",
    "print(confusion_matrix(y_test, y_pred_test_svm))\n",
    "\n",
    "# Generate classification report for the SVM classifier\n",
    "print(\"\\nClassification Report (SVM):\")\n",
    "print(classification_report(y_test, y_pred_test_svm))\n",
    "print(\"---------------------------------------——————————————————————\")"
   ]
  },
  {
   "cell_type": "markdown",
   "metadata": {
    "application/vnd.databricks.v1+cell": {
     "cellMetadata": {},
     "inputWidgets": {},
     "nuid": "f5de1c33-1a24-4ae4-be02-e2bf8dd8df89",
     "showTitle": false,
     "title": ""
    }
   },
   "source": [
    "The evaluation of the Support Vector Machine (SVM) classifier reveals a respectable performance, with an overall test accuracy of approximately 72.84%. Precision, recall, and F1 scores demonstrate consistent performance across classes. Due to time constraints, more complex kernels, such as “poly”, were not explored, and based on experimentation with baseline models, the RBF kernel was deemed most suitable for this case. \n",
    "\n",
    "Overall, SVM yielded promising results. If resources permit, delving into more sophisticated feature engineering methodologies holds the potential to further enhance the model's performance."
   ]
  },
  {
   "cell_type": "markdown",
   "metadata": {
    "application/vnd.databricks.v1+cell": {
     "cellMetadata": {},
     "inputWidgets": {},
     "nuid": "81b66d30-fe74-41a0-ab4e-80c66a85e3f3",
     "showTitle": false,
     "title": ""
    }
   },
   "source": [
    "### Evaluation 2: Fine-tuned RandomForest"
   ]
  },
  {
   "cell_type": "code",
   "execution_count": 0,
   "metadata": {
    "application/vnd.databricks.v1+cell": {
     "cellMetadata": {
      "byteLimit": 2048000,
      "rowLimit": 10000
     },
     "inputWidgets": {},
     "nuid": "a7ba31da-9ace-42a3-9a4b-85c6c07fe604",
     "showTitle": false,
     "title": ""
    }
   },
   "outputs": [
    {
     "output_type": "display_data",
     "data": {
      "application/vnd.jupyter.widget-view+json": {
       "model_id": "48266286c15f4cbaa23ca96bf0c668b5",
       "version_major": 2,
       "version_minor": 0
      },
      "text/plain": [
       "Uploading artifacts:   0%|          | 0/1 [00:00<?, ?it/s]"
      ]
     },
     "metadata": {},
     "output_type": "display_data"
    },
    {
     "output_type": "display_data",
     "data": {
      "application/vnd.jupyter.widget-view+json": {
       "model_id": "d1514222c6a44a6aa1b8040be80113f2",
       "version_major": 2,
       "version_minor": 0
      },
      "text/plain": [
       "Uploading artifacts:   0%|          | 0/5 [00:00<?, ?it/s]"
      ]
     },
     "metadata": {},
     "output_type": "display_data"
    },
    {
     "output_type": "stream",
     "name": "stdout",
     "output_type": "stream",
     "text": [
      "Test Accuracy: 0.735207100591716\nPrecision: 0.7348275684422649\nRecall: 0.735207100591716\nF1 Score: 0.7349887025200543\n\nConfusion Matrix:\n[[ 808  201   14    1]\n [ 226 1507  485    0]\n [  14  489 1549    1]\n [   1    0    0  112]]\n\nClassification Report:\n              precision    recall  f1-score   support\n\n           A       0.77      0.79      0.78      1024\n           B       0.69      0.68      0.68      2218\n           C       0.76      0.75      0.76      2053\n          NR       0.98      0.99      0.99       113\n\n    accuracy                           0.74      5408\n   macro avg       0.80      0.80      0.80      5408\nweighted avg       0.73      0.74      0.73      5408\n\n---------------------------------------——————————————————————\n"
     ]
    }
   ],
   "source": [
    "# Initialize RandomForestClassifier with best parameters\n",
    "best_rf = RandomForestClassifier(**best_params_rf, random_state=42)\n",
    "\n",
    "# Fit the RandomForestClassifier on the training data\n",
    "best_rf.fit(X_new_train, y_new_train)\n",
    "\n",
    "# Generate predictions on the test set using the RandomForestClassifier\n",
    "y_pred_test = best_rf.predict(X_test)\n",
    "\n",
    "# Calculate evaluation metrics\n",
    "test_accuracy = accuracy_score(y_test, y_pred_test)\n",
    "precision = precision_score(y_test, y_pred_test, average='weighted')\n",
    "recall = recall_score(y_test, y_pred_test, average='weighted')\n",
    "f1 = f1_score(y_test, y_pred_test, average='weighted')\n",
    "\n",
    "# Print the evaluation metrics\n",
    "print(\"Test Accuracy:\", test_accuracy)\n",
    "print(\"Precision:\", precision)\n",
    "print(\"Recall:\", recall)\n",
    "print(\"F1 Score:\", f1)\n",
    "\n",
    "# Generate confusion matrix\n",
    "print(\"\\nConfusion Matrix:\")\n",
    "print(confusion_matrix(y_test, y_pred_test))\n",
    "\n",
    "# Generate classification report\n",
    "print(\"\\nClassification Report:\")\n",
    "print(classification_report(y_test, y_pred_test))\n",
    "\n",
    "print(\"---------------------------------------——————————————————————\")"
   ]
  },
  {
   "cell_type": "markdown",
   "metadata": {
    "application/vnd.databricks.v1+cell": {
     "cellMetadata": {},
     "inputWidgets": {},
     "nuid": "f333463b-cf5c-4f43-bfeb-1726cd9e87bc",
     "showTitle": false,
     "title": ""
    }
   },
   "source": [
    "Based on the analysis of the Random Forest classifier's evaluation metrics, it demonstrates excellent performance, achieving an overall test accuracy of approximately 73.52%. Precision, recall, and F1 scores exhibit consistent performance across classes. Unlike the Support Vector Machine (SVM) classifier, the faster computation time for Random Forest's grid search makes thorough hyperparameter tuning feasible.\n",
    "\n",
    "Overall, the Random Forest model's performance surpasses that of the SVM classifier, with a higher test accuracy by approximately 0.7%, suggesting its potential for further deployment. Similarly, if resources permit, delving into more sophisticated feature engineering methodologies holds the potential to further enhance the model's performance."
   ]
  },
  {
   "cell_type": "markdown",
   "metadata": {
    "application/vnd.databricks.v1+cell": {
     "cellMetadata": {},
     "inputWidgets": {},
     "nuid": "7fba2712-3284-4522-94a4-e01b95c3debb",
     "showTitle": false,
     "title": ""
    }
   },
   "source": [
    "## Part 8: Model Interpretation\n",
    "\n",
    "To interpret the features, I opted to utilize the Random Forest model post-training. This choice was primarily motivated by its inherent feature importance function, which offers a straightforward approach to understanding the model. Additionally, the complex nature of Support Vector Machines (SVMs) poses challenges in deciphering feature importance, despite attempted methods. Due to time constraints, exhaustive exploration of all methods for interpreting SVM models wasn't feasible, as discussed in the \"Challenges and Limitations\" section.\n",
    "\n",
    "I employed two main methods to interpret the features of the Random Forest model:\n",
    "1. **Built-in Feature Importance**: Leveraging the Random Forest's built-in feature importance functionality.\n",
    "2. **SHAP (SHapley Additive exPlanations)**: Utilizing the SHAP library, a widely used feature explanation tool.\n",
    "\n",
    "These methods were chosen to offer a comprehensive understanding of feature importance. Subsequently, I provided conjectures along with practical business implications regarding feature importance.\n"
   ]
  },
  {
   "cell_type": "markdown",
   "metadata": {
    "application/vnd.databricks.v1+cell": {
     "cellMetadata": {},
     "inputWidgets": {},
     "nuid": "f67ea431-27b2-4e70-b5e8-7ebf42075f43",
     "showTitle": false,
     "title": ""
    }
   },
   "source": [
    "### 1. Built-in Feature Importance"
   ]
  },
  {
   "cell_type": "code",
   "execution_count": 0,
   "metadata": {
    "application/vnd.databricks.v1+cell": {
     "cellMetadata": {
      "byteLimit": 2048000,
      "rowLimit": 10000
     },
     "inputWidgets": {},
     "nuid": "1e1b904a-4610-45f8-bd3e-cadebd930503",
     "showTitle": false,
     "title": ""
    },
    "scrolled": true
   },
   "outputs": [
    {
     "output_type": "stream",
     "name": "stdout",
     "output_type": "stream",
     "text": [
      "['TotalSqFt' 'TotalAcres' 'NumBuildings' 'NumFloors' 'SP500_Close']\n"
     ]
    }
   ],
   "source": [
    "# retriev the feature names \n",
    "numerical_feature_names = num_features\n",
    "encoded_categorical_feature_names = encoder.get_feature_names_out(input_features=cate_feature)\n",
    "all_feature_names = np.concatenate([numerical_feature_names, encoded_categorical_feature_names])\n",
    "print(all_feature_names[:5])"
   ]
  },
  {
   "cell_type": "code",
   "execution_count": 0,
   "metadata": {
    "application/vnd.databricks.v1+cell": {
     "cellMetadata": {
      "byteLimit": 2048000,
      "rowLimit": 10000
     },
     "inputWidgets": {},
     "nuid": "f36d22fa-660f-4f29-bf7e-7aeb6b19fe7e",
     "showTitle": false,
     "title": ""
    }
   },
   "outputs": [
    {
     "output_type": "execute_result",
     "data": {
      "text/html": [
       "<div>\n",
       "<style scoped>\n",
       "    .dataframe tbody tr th:only-of-type {\n",
       "        vertical-align: middle;\n",
       "    }\n",
       "\n",
       "    .dataframe tbody tr th {\n",
       "        vertical-align: top;\n",
       "    }\n",
       "\n",
       "    .dataframe thead th {\n",
       "        text-align: right;\n",
       "    }\n",
       "</style>\n",
       "<table border=\"1\" class=\"dataframe\">\n",
       "  <thead>\n",
       "    <tr style=\"text-align: right;\">\n",
       "      <th></th>\n",
       "      <th>Feature</th>\n",
       "      <th>Importance</th>\n",
       "    </tr>\n",
       "  </thead>\n",
       "  <tbody>\n",
       "    <tr>\n",
       "      <th>0</th>\n",
       "      <td>TotalSqFt</td>\n",
       "      <td>0.184108</td>\n",
       "    </tr>\n",
       "    <tr>\n",
       "      <th>1</th>\n",
       "      <td>NumFloors</td>\n",
       "      <td>0.175815</td>\n",
       "    </tr>\n",
       "    <tr>\n",
       "      <th>2</th>\n",
       "      <td>SP500_Close</td>\n",
       "      <td>0.133907</td>\n",
       "    </tr>\n",
       "    <tr>\n",
       "      <th>3</th>\n",
       "      <td>DJIA_Close</td>\n",
       "      <td>0.130864</td>\n",
       "    </tr>\n",
       "    <tr>\n",
       "      <th>4</th>\n",
       "      <td>TotalAcres</td>\n",
       "      <td>0.077365</td>\n",
       "    </tr>\n",
       "    <tr>\n",
       "      <th>5</th>\n",
       "      <td>NumBuildings</td>\n",
       "      <td>0.067186</td>\n",
       "    </tr>\n",
       "    <tr>\n",
       "      <th>6</th>\n",
       "      <td>pop_mobility_state</td>\n",
       "      <td>0.066812</td>\n",
       "    </tr>\n",
       "    <tr>\n",
       "      <th>7</th>\n",
       "      <td>PropertyName_others</td>\n",
       "      <td>0.047685</td>\n",
       "    </tr>\n",
       "    <tr>\n",
       "      <th>8</th>\n",
       "      <td>PropertyStatus_Under Construction</td>\n",
       "      <td>0.026654</td>\n",
       "    </tr>\n",
       "    <tr>\n",
       "      <th>9</th>\n",
       "      <td>PropertyStatus_Completed</td>\n",
       "      <td>0.025460</td>\n",
       "    </tr>\n",
       "  </tbody>\n",
       "</table>\n",
       "</div>"
      ],
      "text/plain": [
       "                             Feature  Importance\n",
       "0                          TotalSqFt    0.184108\n",
       "1                          NumFloors    0.175815\n",
       "2                        SP500_Close    0.133907\n",
       "3                         DJIA_Close    0.130864\n",
       "4                         TotalAcres    0.077365\n",
       "5                       NumBuildings    0.067186\n",
       "6                 pop_mobility_state    0.066812\n",
       "7                PropertyName_others    0.047685\n",
       "8  PropertyStatus_Under Construction    0.026654\n",
       "9           PropertyStatus_Completed    0.025460"
      ]
     },
     "execution_count": 30,
     "metadata": {},
     "output_type": "execute_result"
    }
   ],
   "source": [
    "feature_importance = best_rf.feature_importances_\n",
    "\n",
    "# Create a DataFrame to associate feature importance values with column names\n",
    "rf_feature_importance = pd.DataFrame({'Feature': all_feature_names, 'Importance': feature_importance})\n",
    "rf_feature_importance = rf_feature_importance.sort_values('Importance', ascending = False)\n",
    "\n",
    "# Display the top 10 importance fatrues\n",
    "rf_feature_importance.reset_index(drop = True).head(10)"
   ]
  },
  {
   "cell_type": "markdown",
   "metadata": {
    "application/vnd.databricks.v1+cell": {
     "cellMetadata": {},
     "inputWidgets": {},
     "nuid": "d998feb9-9da5-4f6b-8a0e-bd47bba9dc17",
     "showTitle": false,
     "title": ""
    }
   },
   "source": [
    "### Interpretations of key features:\n",
    "\n",
    "1. **TotalSqFt (0.184108) and NumFloors (0.175815):**\n",
    "   - Larger storage facilities with more floors can accommodate more goods, attracting tenants who require significant storage space. This increased capacity and flexibility can lead to higher demand and, consequently, higher rental rates.\n",
    "\n",
    "\n",
    "2. **SP500_Close (0.133907) and DJIA_Close (0.130864):**\n",
    "   - Economic stability and growth, reflected in the performance of indices like the S&P 500 and Dow Jones Industrial Average, often correlate with increased demand for storage space. Businesses expanding their operations or individuals moving due to economic factors may require storage facilities, impacting rental rates.\n",
    "\n",
    "\n",
    "3. **TotalAcres (0.077365) and NumBuildings (0.067186):**\n",
    "   - Similarly, larger total acres and more buildings within a storage facility complex indicate a larger overall capacity and variety of storage options. This versatility appeals to a broader range of tenants, potentially increasing demand and rental rates.\n",
    "\n",
    "\n",
    "4. **pop_mobility_state (0.066812):**\n",
    "   - Population mobility at the state level may reflect economic activity and population growth within a region. Increased mobility can lead to more businesses relocating or individuals moving, potentially driving up demand for storage space and influencing rental rates.\n",
    "\n",
    "\n",
    "5. **PropertyName_others (0.047685):**\n",
    "   - The inclusion of various storage facility brands not explicitly listed suggests that brand or reputation could also impact rental rates. Well-known brands or facilities with a positive reputation may command higher rental rates due to perceived quality or trustworthiness.\n"
   ]
  },
  {
   "cell_type": "markdown",
   "metadata": {
    "application/vnd.databricks.v1+cell": {
     "cellMetadata": {},
     "inputWidgets": {},
     "nuid": "35888378-3cef-4ee9-9bca-a828c8a2620c",
     "showTitle": false,
     "title": ""
    }
   },
   "source": [
    "### 2. SHAP Value Calculation\n",
    "Due to computational constraints, a random subset of 100 samples was chosen for SHAP (SHapley Additive exPlanations) value calculation. While this subset strikes a balance between computational cost and analysis depth, larger subsets may offer more comprehensive insights into feature importance. After all, due to random sampling,  this subset is expected to be somewhat representative of the overall dataset."
   ]
  },
  {
   "cell_type": "code",
   "execution_count": 0,
   "metadata": {
    "application/vnd.databricks.v1+cell": {
     "cellMetadata": {
      "byteLimit": 2048000,
      "rowLimit": 10000
     },
     "inputWidgets": {},
     "nuid": "5d83d2db-c1a1-47db-b9b8-65e653f17831",
     "showTitle": false,
     "title": ""
    }
   },
   "outputs": [
    {
     "output_type": "display_data",
     "data": {
      "image/png": "[encoded data removed]",
      "text/plain": [
       "<Figure size 800x550 with 1 Axes>"
      ]
     },
     "metadata": {},
     "output_type": "display_data"
    }
   ],
   "source": [
    "# Select a random subset of 100 samples\n",
    "random_indices = np.random.choice(X_new_train.shape[0], 100, replace=False)\n",
    "X_subset = X_new_train[random_indices]\n",
    "\n",
    "# Compute SHAP values\n",
    "explainer = shap.TreeExplainer(best_rf)\n",
    "shap_values_subset = explainer.shap_values(X_subset)\n",
    "\n",
    "# Map the feature names with SHAP values\n",
    "shap.summary_plot(shap_values_subset, X_subset, feature_names=all_feature_names, max_display = 10, plot_type=\"bar\",)"
   ]
  },
  {
   "cell_type": "markdown",
   "metadata": {
    "application/vnd.databricks.v1+cell": {
     "cellMetadata": {},
     "inputWidgets": {},
     "nuid": "c3dfc5c5-c26b-4f4b-829f-0be7172c3ec3",
     "showTitle": false,
     "title": ""
    }
   },
   "source": [
    "The visualization above, derived from the SHAP (SHapley Additive exPlanations) value calculation, aligns with the built-in feature importance. This consistency indicates reliability in the interpretation of feature importance."
   ]
  },
  {
   "cell_type": "markdown",
   "metadata": {
    "application/vnd.databricks.v1+cell": {
     "cellMetadata": {},
     "inputWidgets": {},
     "nuid": "3961cf45-9769-48bd-9934-aec49ef8e6ab",
     "showTitle": false,
     "title": ""
    }
   },
   "source": [
    "## Part 9: Challenges and Limitations"
   ]
  },
  {
   "cell_type": "markdown",
   "metadata": {
    "application/vnd.databricks.v1+cell": {
     "cellMetadata": {},
     "inputWidgets": {},
     "nuid": "1c5af763-da1c-44ae-bec0-8b83cf8a62a8",
     "showTitle": false,
     "title": ""
    }
   },
   "source": [
    "### 1. **Assumption Validation:** \n",
    " - Ensuring logical and correct assumptions, including column definitions, is critical for this use case. Lack of business domain knowledge underscores the need for consultation with domain experts to establish these assumptions collaboratively in real-world scenarios.\n",
    "\n",
    "\n",
    "### 2. **Geographical Data Utilization Limitation:** \n",
    " - I utilized census population statistics to calculate population mobility, mapping it as a feature in my dataset. However, ertain cities were not adequately covered by the data. I noticed that some premium datasets offer more standardized structures and broader data coverage, potentially addressing these gaps. Additionally, while merging data, I relied on city and state names. Utilizing zip codes for mapping in premium datasets could offer a more accurate and convenient approach, enhancing scalability and sustainability.\n",
    "\n",
    "\n",
    "### 3. **Time Constraint Challenges:** \n",
    " - Due to time constraints, I was unable to explore an extensive grid search during the fine-tuning process. Instead, I relied on my experience to narrow down the parameter space. Furthermore, I selected conventional models for experimentation to expedite the process. However, a more detailed examination of internal data relationships and feature engineering might warrant the application of more complex classification models such as Neural Networks, which is possible to uncover latent patterns within the data, potentially leading to enhancements in performance.\n",
    " \n",
    "\n",
    "### 4. **Model Interpretation Challenges:**\n",
    " - The nature of Support Vector Machine (SVM) models poses challenges in interpretation due to their inherent black-box nature. Attempts were made to utilize the SHAP library to approximate feature importances. However, processing SHAP values took an impractical amount of time. Given more time, an alternative approach would involve training a baseline SVM model separately and manually reducing dimensionality by selecting only the most crucial features for training. This approach would streamline the process of computing SHAP values, making it more efficient and feasible for interpretation purposes.\n",
    "\n",
    "\n",
    "   \n",
    "\n",
    "\n"
   ]
  },
  {
   "cell_type": "markdown",
   "metadata": {
    "application/vnd.databricks.v1+cell": {
     "cellMetadata": {},
     "inputWidgets": {},
     "nuid": "286851c5-3c84-4646-82c7-8bd2a8ee7b2d",
     "showTitle": false,
     "title": ""
    }
   },
   "source": [
    "## Part 10: Conclusion"
   ]
  },
  {
   "cell_type": "markdown",
   "metadata": {
    "application/vnd.databricks.v1+cell": {
     "cellMetadata": {},
     "inputWidgets": {},
     "nuid": "f0acd9c4-5f67-4d99-9299-7389e8b2240b",
     "showTitle": false,
     "title": ""
    }
   },
   "source": [
    "Firstly, I successfully conducted **Exploratory Data Analysis (EDA)** on the dataset, **engineered features** from existing columns, and **merged two external datasets** based on timestamps and geographical locations to create new features. From my model pool, I selected **Support Vector Machine (SVM)** and **Random Forest** as candidate models for further **grid search fine-tuning**. Each model's performance was assessed using **cross-validation** to avoid overfitting. Finally, I evaluated the models using holdout data and interpreted their outputs based on **feature importance**. The **classification accuracy** of the two models reached **72.8% and 73.5%**, respectively. Given the limited time and my lack of extensive background knowledge of the dataset, I consider this performance satisfactory.\n",
    "\n",
    "Further improvements in **feature engineering** could be made after the consultation with business domain experts. The next steps involve **model deployment** and implementing a series of **MLOps operations** such as **model monitoring, automation, and drift detection**.\n",
    "\n",
    "I am grateful for the opportunity provided, and I found working on this project to be enjoyable. I am enthusiastic about conducting similar projects in the future. Thank you for taking the time to review. Have a good day~!\n"
   ]
  }
 ],
 "metadata": {
  "application/vnd.databricks.v1+notebook": {
   "dashboards": [],
   "language": "python",
   "notebookMetadata": {
    "pythonIndentUnit": 2
   },
   "notebookName": "ml-classification-property-impression-rating",
   "widgets": {}
  },
  "kernelspec": {
   "display_name": "Python 3 (ipykernel)",
   "language": "python",
   "name": "python3"
  },
  "language_info": {
   "codemirror_mode": {
    "name": "ipython",
    "version": 3
   },
   "file_extension": ".py",
   "mimetype": "text/x-python",
   "name": "python",
   "nbconvert_exporter": "python",
   "pygments_lexer": "ipython3",
   "version": "3.9.12"
  }
 },
 "nbformat": 4,
 "nbformat_minor": 0
}
